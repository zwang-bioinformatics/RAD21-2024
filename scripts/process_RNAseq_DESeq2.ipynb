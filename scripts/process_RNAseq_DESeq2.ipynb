{
 "cells": [
  {
   "cell_type": "code",
   "execution_count": 1,
   "id": "e688db99-2450-46c1-8026-e58cd5796f1d",
   "metadata": {},
   "outputs": [],
   "source": [
    "\n",
    "suppressPackageStartupMessages(library(DESeq2))\n",
    "suppressPackageStartupMessages(library(ggplot2))\n",
    "suppressPackageStartupMessages(library(pheatmap))\n",
    "suppressPackageStartupMessages(library(cowplot))\n"
   ]
  },
  {
   "cell_type": "code",
   "execution_count": 2,
   "id": "75acaad6-91ab-40d8-b9c6-14070e4095af",
   "metadata": {},
   "outputs": [],
   "source": [
    "cids <- c(\"WT\",\"KO\",\"WT_Sham\",\"WT_SNC\",\"KO_Sham\",\"KO_SNC\")\n",
    "\n",
    "sampleNames <- c()\n",
    "condition <- c()\n",
    "for (cid in cids){\n",
    "  for (i in seq(1,3)){\n",
    "    condition <- c(condition, cid)\n",
    "    cidi=paste(cid,i, sep=\"\")\n",
    "    sampleNames <- c(sampleNames, cidi)\n",
    "  }\n",
    "}"
   ]
  },
  {
   "cell_type": "code",
   "execution_count": 5,
   "id": "8c5258cb-6a43-4417-b2ed-ff87aa7b521b",
   "metadata": {},
   "outputs": [
    {
     "name": "stderr",
     "output_type": "stream",
     "text": [
      "estimating size factors\n",
      "\n",
      "estimating dispersions\n",
      "\n",
      "gene-wise dispersion estimates\n",
      "\n",
      "mean-dispersion relationship\n",
      "\n",
      "final dispersion estimates\n",
      "\n",
      "fitting model and testing\n",
      "\n"
     ]
    }
   ],
   "source": [
    "data <- read.table(\"results_step2/featureCounts_WT_KO\", header=TRUE, quote=\"\\t\", skip=1)\n",
    "\n",
    "n_col <- ncol(data)\n",
    "\n",
    "names(data)[7:n_col] <- sampleNames\n",
    "countData <- as.matrix(data[7:n_col])\n",
    "rownames(countData) <- data$Geneid\n",
    "\n",
    "# metadata\n",
    "database <- data.frame(name=sampleNames, condition=as.factor(condition))\n",
    "rownames(database) <- sampleNames\n",
    "\n",
    "dds <- DESeqDataSetFromMatrix(countData, colData=database, design= ~ condition)\n",
    "dds <- dds[ rowSums(counts(dds)) > 1, ]\n",
    "\n",
    "## call DESeq and get res\n",
    "dds <- DESeq(dds)\n"
   ]
  },
  {
   "cell_type": "code",
   "execution_count": 6,
   "id": "087b1d67-31e3-4abf-a169-86024ebf0673",
   "metadata": {},
   "outputs": [
    {
     "name": "stderr",
     "output_type": "stream",
     "text": [
      "Saving 6.67 x 6.67 in image\n",
      "\n"
     ]
    }
   ],
   "source": [
    "### PCA\n",
    "\n",
    "rld <- rlog(dds)\n",
    "p <- plotPCA(rld, intgroup=\"condition\")\n",
    "ggsave(\"results_step3/PCA_WT_KO_Sham_SNC.pdf\",p)\n"
   ]
  },
  {
   "cell_type": "code",
   "execution_count": 9,
   "id": "3936e84e-f21b-4ea7-89fe-e44a9ce7bb49",
   "metadata": {},
   "outputs": [],
   "source": [
    "### save normalized counts\n",
    "\n",
    "normalized_counts <- as.data.frame(counts(dds, normalized=TRUE))\n",
    "\n",
    "write.csv(normalized_counts, \"results_step3/NormalizedCounts_WT_KO_Sham_SNC.csv\", row.names=TRUE)\n"
   ]
  },
  {
   "cell_type": "code",
   "execution_count": 11,
   "id": "b83c7f56-2b8c-4950-b533-d34d2d4ce190",
   "metadata": {},
   "outputs": [],
   "source": [
    "### differential analysis\n",
    "\n",
    "diff_analysis_list <- list(c(\"KO\",\"WT\"),\n",
    "                           c(\"KO_Sham\",\"WT_Sham\"),\n",
    "                           c(\"WT_SNC\",\"WT_Sham\"),\n",
    "                           c(\"KO_SNC\",\"KO_Sham\"),\n",
    "                           c(\"KO_SNC\",\"WT_SNC\"),\n",
    "                           c(\"KO_SNC\",\"WT_Sham\"))\n",
    "\n",
    "for ( l in diff_analysis_list){\n",
    "    \n",
    "    res <- results(dds, contrast=c('condition',l[1],l[2]))\n",
    "    \n",
    "    fout_prefix <- \"results_step3/diff_analysis_\"\n",
    "    fout <- paste(fout_prefix,l[1],\"-vs-\",l[2],\".csv\", sep=\"\")\n",
    "    \n",
    "    write.csv(res, fout, row.names=TRUE)\n",
    "\n",
    "}"
   ]
  },
  {
   "cell_type": "code",
   "execution_count": null,
   "id": "b1db3f0e-7120-439d-8b04-53c52bb5251c",
   "metadata": {},
   "outputs": [],
   "source": []
  }
 ],
 "metadata": {
  "kernelspec": {
   "display_name": "R",
   "language": "R",
   "name": "ir"
  },
  "language_info": {
   "codemirror_mode": "r",
   "file_extension": ".r",
   "mimetype": "text/x-r-source",
   "name": "R",
   "pygments_lexer": "r",
   "version": "4.2.2"
  }
 },
 "nbformat": 4,
 "nbformat_minor": 5
}
